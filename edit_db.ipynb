{
 "cells": [
  {
   "attachments": {},
   "cell_type": "markdown",
   "metadata": {},
   "source": [
    "# Edit cs conference database `.db` file "
   ]
  },
  {
   "cell_type": "code",
   "execution_count": 3,
   "metadata": {},
   "outputs": [
    {
     "name": "stdout",
     "output_type": "stream",
     "text": [
      "Name of tables: [('arxiv_candidates',), ('author_gender',), ('author_gscholar_citation',), ('author_gscholar_profile',), ('author_institution',), ('author_institution_csrank',), ('author_submission',), ('authors',), ('comment_sentiment',), ('csrank_area',), ('csrank_institution',), ('decision',), ('iclr_total_ranking',), ('institution_domains',), ('public_comment',), ('response',), ('review_iclr2020_special',), ('review_iclr2022_special',), ('review_len',), ('review_special_assessments',), ('reviews',), ('submission_arxiv',), ('submission_bibliography',), ('submission_figure',), ('submission_keyword',), ('submission_keyword_clustered',), ('submission_len',), ('submission_main_keyword',), ('submission_section',), ('submission_sentiment',), ('submission_summary',), ('submissions',), ('venues',)], num: 33\n"
     ]
    }
   ],
   "source": [
    "# coding:utf-8\n",
    "import sqlite3\n",
    "db_path = './data/cs_conf_release.db'\n",
    "conn = sqlite3.connect(db_path)\n",
    "cursor = conn.cursor()\n",
    "sql = \"\"\"select name from sqlite_master where type='table' order by name\"\"\"\n",
    "cursor.execute(sql)\n",
    "result = cursor.fetchall()\n",
    "print('Name of tables: {}, num: {}'.format(result, len(result)))\n",
    "# print(type(result))\n",
    "conn.close()"
   ]
  },
  {
   "cell_type": "code",
   "execution_count": null,
   "metadata": {},
   "outputs": [],
   "source": [
    "import sqlite3\n",
    "import csv\n",
    "import os\n",
    "\n",
    "# open a connection to the database file\n",
    "db_path = './data/cs_conf_release.db'\n",
    "# conn = sqlite3.connect('cs_conf_release.db')\n",
    "conn = sqlite3.connect(db_path)\n",
    "cursor = conn.cursor()\n",
    "\n",
    "# get a list of all tables in the database\n",
    "cursor.execute(\"SELECT name FROM sqlite_master WHERE type='table'\")\n",
    "tables = [table[0] for table in cursor.fetchall()]\n",
    "\n",
    "# create a directory to store the csv files\n",
    "if not os.path.exists('csv_files'):\n",
    "    os.makedirs('csv_files')\n",
    "\n",
    "# loop through the tables and export them to csv files\n",
    "for table in tables:\n",
    "    filename = f\"csv_files/{table}.csv\"\n",
    "    with open(filename, 'w', newline='') as csvfile:\n",
    "        csvwriter = csv.writer(csvfile)\n",
    "        cursor.execute(f\"SELECT * FROM {table}\")\n",
    "        # write the column headers to the csv file\n",
    "        column_names = [description[0] for description in cursor.description]\n",
    "        csvwriter.writerow(column_names)\n",
    "        # write the data to the csv file\n",
    "        for row in cursor.fetchall():\n",
    "            csvwriter.writerow(row)\n",
    "\n",
    "# close the connection to the database\n",
    "conn.close()"
   ]
  },
  {
   "attachments": {},
   "cell_type": "markdown",
   "metadata": {},
   "source": [
    "# show npy file of raw data"
   ]
  },
  {
   "cell_type": "code",
   "execution_count": 16,
   "metadata": {},
   "outputs": [],
   "source": [
    "import numpy as np\n",
    "ml_reddit_node_npy = np.load('data/ml_wikipedia_node.npy')\n",
    "ml_reddit_npy = np.load('data/ml_wikipedia.npy')"
   ]
  },
  {
   "cell_type": "code",
   "execution_count": 17,
   "metadata": {},
   "outputs": [
    {
     "data": {
      "text/plain": [
       "(array([0., 0., 0., 0., 0., 0., 0., 0., 0., 0., 0., 0., 0., 0., 0., 0., 0.,\n",
       "        0., 0., 0., 0., 0., 0., 0., 0., 0., 0., 0., 0., 0., 0., 0., 0., 0.,\n",
       "        0., 0., 0., 0., 0., 0., 0., 0., 0., 0., 0., 0., 0., 0., 0., 0., 0.,\n",
       "        0., 0., 0., 0., 0., 0., 0., 0., 0., 0., 0., 0., 0., 0., 0., 0., 0.,\n",
       "        0., 0., 0., 0., 0., 0., 0., 0., 0., 0., 0., 0., 0., 0., 0., 0., 0.,\n",
       "        0., 0., 0., 0., 0., 0., 0., 0., 0., 0., 0., 0., 0., 0., 0., 0., 0.,\n",
       "        0., 0., 0., 0., 0., 0., 0., 0., 0., 0., 0., 0., 0., 0., 0., 0., 0.,\n",
       "        0., 0., 0., 0., 0., 0., 0., 0., 0., 0., 0., 0., 0., 0., 0., 0., 0.,\n",
       "        0., 0., 0., 0., 0., 0., 0., 0., 0., 0., 0., 0., 0., 0., 0., 0., 0.,\n",
       "        0., 0., 0., 0., 0., 0., 0., 0., 0., 0., 0., 0., 0., 0., 0., 0., 0.,\n",
       "        0., 0.]),\n",
       " (9228, 172))"
      ]
     },
     "execution_count": 17,
     "metadata": {},
     "output_type": "execute_result"
    }
   ],
   "source": [
    "ml_reddit_node_npy[3], ml_reddit_node_npy.shape"
   ]
  },
  {
   "cell_type": "code",
   "execution_count": 18,
   "metadata": {},
   "outputs": [
    {
     "name": "stdout",
     "output_type": "stream",
     "text": [
      "[-0.17506251 -0.17667764 -0.93709077 -0.38192566  0.         -0.63653506\n",
      "  1.05239649 -0.16937994 -0.19303961 -0.16923411 -0.82894224 -0.17509305\n",
      " -0.23967511 -0.08175889 -0.43849158 -0.26522708 -0.2705335  -0.76624089\n",
      " -0.2308179  -0.20839674 -0.03145804 -0.1460524  -0.12591898 -0.11499875\n",
      " -0.07366619 -0.080377   -0.03997727 -0.08641651 -0.07646035 -0.11533572\n",
      " -0.11297558 -0.12955636 -0.114021   -0.12691053 -0.11293875 -0.0863202\n",
      " -0.12647963 -0.14023702 -0.12746241 -0.10123371 -0.12888967 -0.12375016\n",
      " -0.03667754 -0.13216314 -0.09182764 -0.07686611 -0.08342218 -0.1326532\n",
      " -0.13227117 -0.11352337 -0.0828937  -0.10053204 -0.07578398 -0.14363464\n",
      " -0.12752756 -0.1284549  -0.09904575 -0.11245651 -0.11828353 -0.10532186\n",
      " -0.11722814 -0.1053035  -0.13007721 -0.11733481 -0.10045207 -0.08298721\n",
      " -0.10977516 -0.08251948 -0.09015049 -0.06180688 -0.07659462 -0.15440477\n",
      " -0.13370903 -0.14931784 -0.14752621 -0.15763136 -0.13390825 -0.14212796\n",
      " -0.10124252 -0.09423485 -0.08458487 -0.08920547 -0.05786022 -0.0678592\n",
      " -0.05542865 -0.05232922 -0.11414682 -0.11528617 -0.64961485 -0.28993879\n",
      "  0.         -0.41798993  0.72326147 -0.10921465 -0.12200883 -0.10923364\n",
      " -0.5597856  -0.1209567  -0.17511816 -0.06204122 -0.26592222 -0.15539393\n",
      " -0.15704401 -0.51589792 -0.15192837 -0.1434505  -0.00926212 -0.10337834\n",
      " -0.08909862 -0.08199795 -0.0526049  -0.05569965 -0.03084629 -0.06095729\n",
      " -0.0538461  -0.08162444 -0.07844069 -0.08799932 -0.07942915 -0.08881298\n",
      " -0.07198582 -0.06538741 -0.08999549 -0.09740804 -0.09306396 -0.07634347\n",
      " -0.08665537 -0.08535061 -0.03641195 -0.08736506 -0.05944714 -0.05338855\n",
      " -0.05568519 -0.08714054 -0.08925076 -0.07339566 -0.05874054 -0.06798958\n",
      " -0.03871806 -0.0974486  -0.08757796 -0.09096852 -0.07200306 -0.08123793\n",
      " -0.08174704 -0.06876709 -0.08757911 -0.07566231 -0.08267461 -0.07205032\n",
      " -0.06846234 -0.04557322 -0.07326132 -0.05312438 -0.06232004 -0.0498802\n",
      " -0.05060037 -0.10539429 -0.09039525 -0.09981604 -0.10288771 -0.10290329\n",
      " -0.09011459 -0.09606808 -0.06813565 -0.06083513 -0.05839396 -0.06207875\n",
      " -0.0446735  -0.05046383 -0.04144796 -0.03877482]\n",
      "(157475, 172)\n"
     ]
    }
   ],
   "source": [
    "print(ml_reddit_npy[3])\n",
    "print(ml_reddit_npy.shape)"
   ]
  },
  {
   "cell_type": "code",
   "execution_count": 10,
   "metadata": {},
   "outputs": [
    {
     "data": {
      "text/plain": [
       "172"
      ]
     },
     "execution_count": 10,
     "metadata": {},
     "output_type": "execute_result"
    }
   ],
   "source": [
    "# user_id,item_id,timestamp,state_label,comma_separated_list_of_features\n",
    "# str_wiki = 1\n",
    "user_id = 3\n",
    "item_id = 3\n",
    "timestamp = 169.0\n",
    "state_label = 0\n",
    "comma_separated_list_of_features = [-0.09043868515102163,-0.08676091903122464,0.9292107003211172,0.19877852277425914,0.0,0.0008222563733393577,-0.9044921890301448,-0.09274303956621892,-0.08606222614767563,-0.06095656948921324,0.5456715562099688,-0.17509304597478662,-0.23967511439426278,-0.08175888741218432,-0.4384915823230451,-0.11212705799033927,-0.09896491557901774,0.34354179246299976,-0.23081790479919367,-0.20839674305324082,-0.03145804048773891,-0.14605239582101895,-0.12591897567317195,-0.11499874749558849,-0.07366619002315745,-0.08037699947828657,-0.03997726988321562,-0.08641650695618464,-0.07646034576245389,-0.11533572241015472,-0.11297557521633977,-0.12955636214877805,-0.11402099602301799,-0.1269105282175757,-0.11293875349349795,-0.08632019549514476,-0.12647962510993746,-0.14023701921777576,-0.12746241266138886,-0.10123371032764963,-0.1288896672533927,-0.1237501576204664,-0.03667754249938761,-0.13216313821197276,-0.09182763910820371,-0.07686611145596517,-0.08342217957175532,-0.13265319536821718,-0.13227117226213492,-0.113523374510046,-0.08289370113427304,-0.10053203755452987,-0.07578397801422816,-0.14363463718697356,-0.12752756276266453,-0.1284549020938959,-0.09904575386608952,-0.11245650703204295,-0.11828353263789611,-0.10532186466345711,-0.11722813530254851,-0.10530349855118609,0.9270955398615798,2.0554288304533106,-0.1004520681216486,-0.08298721303403506,-0.10977516400575273,-0.08251948385565434,-0.09015048539973868,-0.06180688468954334,-0.0765946187559463,0.059266628858322255,-0.1337090289746071,0.37071219217981993,-0.14752621216599365,-0.1576313615024945,-0.13390824503578364,-0.1421279627683365,-0.10124252100616868,-0.09423485086817447,-0.08458487365066618,-0.08920547159844303,-0.05786021642191934,-0.06785919608053419,-0.05542864985086958,-0.052329223636567064,-0.11414681818290043,-0.1152861673876069,-0.6496148484746719,-0.2899387873796747,0.0,-0.4179899301337496,0.7232614713013882,-0.10921464507541785,-0.12200882844870911,-0.10923364341927067,-0.5597856033618803,-0.12095670176773914,-0.17511815585099771,-0.06204121616625453,-0.2659222212735881,-0.1553939288088238,-0.15704401148077107,-0.5158979179357884,-0.1519283697440212,-0.14345050278131105,-0.009262122529971765,-0.10337833561006579,-0.0890986207173787,-0.08199795136930474,-0.05260490391731844,-0.05569964677168386,-0.03084629414963642,-0.06095728689619084,-0.05384609578331836,-0.08162444110540874,-0.0784406926846966,-0.0879993150624983,-0.07942914758816806,-0.0888129796509423,-0.07198582139343324,-0.06538741090027306,-0.08999548837452716,-0.09740803805760834,-0.09306396371202469,-0.07634346598359024,-0.08665537190302158,-0.08535061000030147,-0.036411951154533204,-0.08736505968314669,-0.059447137087637034,-0.05338855122032854,-0.05568519180668258,-0.0871405422624645,-0.08925075703312768,-0.07339566210042005,-0.05874054499382745,-0.06798958419026456,-0.038718055240394074,-0.09744859763410547,-0.08757796289998936,-0.09096852152758025,-0.07200305879709595,-0.08123793299221312,-0.08174704342215697,-0.06876708849244723,-0.08757910942994973,-0.07566231255997134,-0.08267460778326687,-0.07205031566665868,-0.06846234110485706,-0.045573223130334455,-0.07326132448177235,-0.05312437608810907,-0.06232004246147691,-0.049880201980673985,-0.05060036991615946,-0.10539428699803732,-0.09039524546774956,-0.09981603841888737,-0.10288770580996137,-0.10290328996294526,-0.09011459379026371,-0.09606807853186562,-0.06813565221726421,-0.06083513012513528,-0.058393959319256006,-0.06207875323834008,-0.044673503879410305,-0.05046383443347884,-0.04144796360542314,-0.03877481969088345]\n",
    "len(comma_separated_list_of_features)"
   ]
  },
  {
   "attachments": {},
   "cell_type": "markdown",
   "metadata": {},
   "source": []
  },
  {
   "attachments": {},
   "cell_type": "markdown",
   "metadata": {},
   "source": [
    "## edit \n",
    "submission(item), author(user), decision(label)"
   ]
  },
  {
   "cell_type": "code",
   "execution_count": 4,
   "metadata": {},
   "outputs": [],
   "source": [
    "import pandas as pd\n",
    "import numpy as np\n",
    "\n",
    "author_submission = pd.read_csv('csv_files/author_submission.csv')\n",
    "submission_id_dict = {} # old to new\n",
    "author_id_dict = {}\n",
    "author_cnt = 0\n",
    "submission_cnt = 0\n",
    "\n",
    "for inds in author_submission.index:\n",
    "    author_originid, submission_originid, _ = author_submission.loc[inds].values\n",
    "    \n",
    "    if not (author_originid in author_id_dict):\n",
    "        author_id_dict[author_originid] = author_cnt\n",
    "        author_cnt += 1\n",
    "    \n",
    "    if not (submission_originid in submission_id_dict):\n",
    "        submission_id_dict[submission_originid] = submission_cnt\n",
    "        submission_cnt += 1"
   ]
  },
  {
   "cell_type": "code",
   "execution_count": 10,
   "metadata": {},
   "outputs": [
    {
     "data": {
      "text/plain": [
       "(10298, 21810)"
      ]
     },
     "execution_count": 10,
     "metadata": {},
     "output_type": "execute_result"
    }
   ],
   "source": [
    "len(submission_id_dict.keys()), len(author_id_dict.keys()), "
   ]
  },
  {
   "cell_type": "code",
   "execution_count": 17,
   "metadata": {},
   "outputs": [],
   "source": [
    "submissions = pd.read_csv('csv_files/submissions.csv')\n",
    "tcdate_dict = {}\n",
    "for inds in submissions.index:\n",
    "    submission_originid = submissions.loc[inds].values[0]\n",
    "    tcdate = submissions.loc[inds].values[2]\n",
    "    \n",
    "    if not (submission_originid in submission_id_dict):\n",
    "        print('fault')\n",
    "    if not (tcdate in tcdate_dict):\n",
    "        tcdate_dict[submission_originid] = float(tcdate)\n",
    "        # author_cnt += 1"
   ]
  },
  {
   "cell_type": "code",
   "execution_count": 30,
   "metadata": {},
   "outputs": [],
   "source": [
    "decision = pd.read_csv('csv_files/decision.csv')\n",
    "label_dict = {}\n",
    "for inds in decision.index:\n",
    "    submission_originid = decision.loc[inds].values[5]\n",
    "    # print(submission_originid)\n",
    "    label = decision.loc[inds].values[7]\n",
    "    \n",
    "    # if not (submission_originid in submission_id_dict):\n",
    "    #     print('fault')\n",
    "    if not (label in tcdate_dict):\n",
    "        if label in ['Reject']:\n",
    "            label_dict[submission_originid] = 0\n",
    "        else:\n",
    "            label_dict[submission_originid] = 1\n",
    "        # author_cnt += 1"
   ]
  },
  {
   "cell_type": "code",
   "execution_count": 31,
   "metadata": {},
   "outputs": [],
   "source": [
    "data_list = []\n",
    "for inds in author_submission.index:\n",
    "    author_originid, submission_originid, _ = author_submission.loc[inds].values\n",
    "    data_tmp = [author_id_dict[author_originid],  submission_id_dict[submission_originid]]\n",
    "    \n",
    "    data_tmp.append(tcdate_dict[submission_originid])\n",
    "    data_tmp.append(label_dict[submission_originid])\n",
    "    \n",
    "    data_tmp.append(123)\n",
    "    data_list.append(data_tmp)"
   ]
  },
  {
   "cell_type": "code",
   "execution_count": 34,
   "metadata": {},
   "outputs": [
    {
     "data": {
      "text/html": [
       "<div>\n",
       "<style scoped>\n",
       "    .dataframe tbody tr th:only-of-type {\n",
       "        vertical-align: middle;\n",
       "    }\n",
       "\n",
       "    .dataframe tbody tr th {\n",
       "        vertical-align: top;\n",
       "    }\n",
       "\n",
       "    .dataframe thead th {\n",
       "        text-align: right;\n",
       "    }\n",
       "</style>\n",
       "<table border=\"1\" class=\"dataframe\">\n",
       "  <thead>\n",
       "    <tr style=\"text-align: right;\">\n",
       "      <th></th>\n",
       "      <th>author_id</th>\n",
       "      <th>submission_id</th>\n",
       "      <th>tcdate</th>\n",
       "      <th>label</th>\n",
       "      <th>feature</th>\n",
       "    </tr>\n",
       "  </thead>\n",
       "  <tbody>\n",
       "    <tr>\n",
       "      <th>0</th>\n",
       "      <td>0</td>\n",
       "      <td>0</td>\n",
       "      <td>1.601308e+12</td>\n",
       "      <td>1</td>\n",
       "      <td>123</td>\n",
       "    </tr>\n",
       "    <tr>\n",
       "      <th>1</th>\n",
       "      <td>1</td>\n",
       "      <td>0</td>\n",
       "      <td>1.601308e+12</td>\n",
       "      <td>1</td>\n",
       "      <td>123</td>\n",
       "    </tr>\n",
       "    <tr>\n",
       "      <th>2</th>\n",
       "      <td>2</td>\n",
       "      <td>1</td>\n",
       "      <td>1.601308e+12</td>\n",
       "      <td>0</td>\n",
       "      <td>123</td>\n",
       "    </tr>\n",
       "    <tr>\n",
       "      <th>3</th>\n",
       "      <td>3</td>\n",
       "      <td>1</td>\n",
       "      <td>1.601308e+12</td>\n",
       "      <td>0</td>\n",
       "      <td>123</td>\n",
       "    </tr>\n",
       "    <tr>\n",
       "      <th>4</th>\n",
       "      <td>4</td>\n",
       "      <td>1</td>\n",
       "      <td>1.601308e+12</td>\n",
       "      <td>0</td>\n",
       "      <td>123</td>\n",
       "    </tr>\n",
       "    <tr>\n",
       "      <th>...</th>\n",
       "      <td>...</td>\n",
       "      <td>...</td>\n",
       "      <td>...</td>\n",
       "      <td>...</td>\n",
       "      <td>...</td>\n",
       "    </tr>\n",
       "    <tr>\n",
       "      <th>42586</th>\n",
       "      <td>21809</td>\n",
       "      <td>10296</td>\n",
       "      <td>1.632875e+12</td>\n",
       "      <td>0</td>\n",
       "      <td>123</td>\n",
       "    </tr>\n",
       "    <tr>\n",
       "      <th>42587</th>\n",
       "      <td>21515</td>\n",
       "      <td>10297</td>\n",
       "      <td>1.632875e+12</td>\n",
       "      <td>0</td>\n",
       "      <td>123</td>\n",
       "    </tr>\n",
       "    <tr>\n",
       "      <th>42588</th>\n",
       "      <td>21517</td>\n",
       "      <td>10297</td>\n",
       "      <td>1.632875e+12</td>\n",
       "      <td>0</td>\n",
       "      <td>123</td>\n",
       "    </tr>\n",
       "    <tr>\n",
       "      <th>42589</th>\n",
       "      <td>21516</td>\n",
       "      <td>10297</td>\n",
       "      <td>1.632875e+12</td>\n",
       "      <td>0</td>\n",
       "      <td>123</td>\n",
       "    </tr>\n",
       "    <tr>\n",
       "      <th>42590</th>\n",
       "      <td>21518</td>\n",
       "      <td>10297</td>\n",
       "      <td>1.632875e+12</td>\n",
       "      <td>0</td>\n",
       "      <td>123</td>\n",
       "    </tr>\n",
       "  </tbody>\n",
       "</table>\n",
       "<p>42591 rows × 5 columns</p>\n",
       "</div>"
      ],
      "text/plain": [
       "       author_id  submission_id        tcdate  label  feature\n",
       "0              0              0  1.601308e+12      1      123\n",
       "1              1              0  1.601308e+12      1      123\n",
       "2              2              1  1.601308e+12      0      123\n",
       "3              3              1  1.601308e+12      0      123\n",
       "4              4              1  1.601308e+12      0      123\n",
       "...          ...            ...           ...    ...      ...\n",
       "42586      21809          10296  1.632875e+12      0      123\n",
       "42587      21515          10297  1.632875e+12      0      123\n",
       "42588      21517          10297  1.632875e+12      0      123\n",
       "42589      21516          10297  1.632875e+12      0      123\n",
       "42590      21518          10297  1.632875e+12      0      123\n",
       "\n",
       "[42591 rows x 5 columns]"
      ]
     },
     "execution_count": 34,
     "metadata": {},
     "output_type": "execute_result"
    }
   ],
   "source": [
    "df = pd.DataFrame(data_list,columns=['author_id','submission_id','tcdate','label','feature']) "
   ]
  },
  {
   "cell_type": "code",
   "execution_count": 45,
   "metadata": {},
   "outputs": [],
   "source": [
    "features = np.random.randn(df.shape[0], 127)\n",
    "df['feature'] = df['feature'].astype('object')\n",
    "for row in range(df.shape[0]):\n",
    "    df.at[row, 'feature'] = features[row]"
   ]
  },
  {
   "cell_type": "code",
   "execution_count": 47,
   "metadata": {},
   "outputs": [],
   "source": [
    "returnValue = df.to_csv('data/iclr_conf.csv')\n"
   ]
  }
 ],
 "metadata": {
  "kernelspec": {
   "display_name": "gnc",
   "language": "python",
   "name": "python3"
  },
  "language_info": {
   "codemirror_mode": {
    "name": "ipython",
    "version": 3
   },
   "file_extension": ".py",
   "mimetype": "text/x-python",
   "name": "python",
   "nbconvert_exporter": "python",
   "pygments_lexer": "ipython3",
   "version": "3.7.13"
  },
  "orig_nbformat": 4
 },
 "nbformat": 4,
 "nbformat_minor": 2
}
